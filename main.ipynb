{
 "cells": [
  {
   "cell_type": "code",
   "execution_count": 2,
   "metadata": {},
   "outputs": [],
   "source": [
    "from langchain_groq import ChatGroq\n",
    "from langchain.document_loaders import PyPDFDirectoryLoader\n",
    "from langchain.text_splitter import RecursiveCharacterTextSplitter\n",
    "from langchain.vectorstores import Pinecone"
   ]
  },
  {
   "cell_type": "code",
   "execution_count": 30,
   "metadata": {},
   "outputs": [
    {
     "data": {
      "text/plain": [
       "True"
      ]
     },
     "execution_count": 30,
     "metadata": {},
     "output_type": "execute_result"
    }
   ],
   "source": [
    "from dotenv import load_dotenv\n",
    "load_dotenv()"
   ]
  },
  {
   "cell_type": "code",
   "execution_count": 31,
   "metadata": {},
   "outputs": [],
   "source": [
    "import os"
   ]
  },
  {
   "cell_type": "code",
   "execution_count": 5,
   "metadata": {},
   "outputs": [],
   "source": [
    "## Lets Read the document\n",
    "def read_doc(directory):\n",
    "    file_loader=PyPDFDirectoryLoader(directory)\n",
    "    documents=file_loader.load()\n",
    "    return documents"
   ]
  },
  {
   "cell_type": "code",
   "execution_count": 6,
   "metadata": {},
   "outputs": [
    {
     "name": "stdout",
     "output_type": "stream",
     "text": [
      "Artificial Intelligence vs. Human\n",
      "Intelligence: A Comprehensive Comparison\n",
      "Author Name\n",
      "June 19, 2025\n",
      "Abstract\n",
      "This article explores the multifaceted comparison between artificial intelligence\n",
      "(AI) and human intelligence, delving into cognitive abilities, collaboration, ethi-\n",
      "cal considerations, creativity, and future implications. By examining strengths,\n",
      "limitations, and synergies, we aim to provide a balanced perspective on how AI\n",
      "and humans can coexist and complement each other in an evolving technologi-\n",
      "cal landscape.\n",
      "Contents\n",
      "1 Introduction . . . . . . . . . . . . . . . . . . . . . . . . . . . . . . . . . . . . .3\n",
      "2 Cognitive Abilities . . . . . . . . . . . . . . . . . . . . . . . . . . . . . . . . .3\n",
      "2.1 Processing Speed and Accuracy. . . . . . . . . . . . . . . . . . . . . . . 3\n",
      "2.2 Memory and Recall . . . . . . . . . . . . . . . . . . . . . . . . . . . . . . 3\n",
      "2.3 Learning and Adaptation. . . . . . . . . . . . . . . . . . . . . . . . . . . 4\n",
      "2.4 Problem-Solving . . . . . . . . . . . . . . . . . . . . . . . . . . . . . . . . 4\n",
      "3 Collaboration Between AI and Humans. . . . . . . . . . . . . . . . . . . 4\n",
      "3.1 AI as a Tool . . . . . . . . . . . . . . . . . . . . . . . . . . . . . . . . . . . 4\n",
      "3.2 Human Oversight . . . . . . . . . . . . . . . . . . . . . . . . . . . . . . . 4\n",
      "3.3 Creative Partnerships . . . . . . . . . . . . . . . . . . . . . . . . . . . . . 5\n",
      "4 Ethical Considerations . . . . . . . . . . . . . . . . . . . . . . . . . . . . . .5\n",
      "4.1 Bias in AI Systems. . . . . . . . . . . . . . . . . . . . . . . . . . . . . . . 5\n",
      "4.2 Accountability . . . . . . . . . . . . . . . . . . . . . . . . . . . . . . . . . 5\n",
      "4.3 Job Displacement . . . . . . . . . . . . . . . . . . . . . . . . . . . . . . . 5\n",
      "5 Creativity and Emotional Intelligence . . . . . . . . . . . . . . . . . . . . 5\n",
      "5.1 AI-Generated Art . . . . . . . . . . . . . . . . . . . . . . . . . . . . . . . . 6\n",
      "5.2 Emotional Understanding . . . . . . . . . . . . . . . . . . . . . . . . . . 6\n",
      "5.3 Innovation and Originality. . . . . . . . . . . . . . . . . . . . . . . . . . 6\n",
      "1\n",
      "{'producer': 'xdvipdfmx (20220710)', 'creator': 'LaTeX with hyperref', 'creationdate': '2025-06-19T13:48:20+00:00', 'source': 'documents\\\\ai_vs_human.pdf', 'total_pages': 20, 'page': 0, 'page_label': '1'}\n"
     ]
    }
   ],
   "source": [
    "doc=read_doc('documents/')\n",
    "len(doc)\n",
    "first_doc = doc[0]  \n",
    "print(first_doc.page_content)  \n",
    "print(first_doc.metadata) "
   ]
  },
  {
   "cell_type": "code",
   "execution_count": 7,
   "metadata": {},
   "outputs": [
    {
     "name": "stdout",
     "output_type": "stream",
     "text": [
      "Number of chunks: 118\n"
     ]
    }
   ],
   "source": [
    "text_splitter = RecursiveCharacterTextSplitter(chunk_size=500, chunk_overlap=50)\n",
    "chunked_docs = text_splitter.split_documents(doc)\n",
    "print(f\"Number of chunks: {len(chunked_docs)}\")"
   ]
  },
  {
   "cell_type": "code",
   "execution_count": 8,
   "metadata": {},
   "outputs": [
    {
     "name": "stderr",
     "output_type": "stream",
     "text": [
      "C:\\Users\\Rafin\\AppData\\Roaming\\Python\\Python313\\site-packages\\tqdm\\auto.py:21: TqdmWarning: IProgress not found. Please update jupyter and ipywidgets. See https://ipywidgets.readthedocs.io/en/stable/user_install.html\n",
      "  from .autonotebook import tqdm as notebook_tqdm\n"
     ]
    }
   ],
   "source": [
    "\n",
    "from langchain_huggingface import HuggingFaceEmbeddings\n",
    "embeddings = HuggingFaceEmbeddings(model_name='sentence-transformers/all-MiniLM-L6-v2')\n"
   ]
  },
  {
   "cell_type": "code",
   "execution_count": 9,
   "metadata": {},
   "outputs": [
    {
     "data": {
      "text/plain": [
       "384"
      ]
     },
     "execution_count": 9,
     "metadata": {},
     "output_type": "execute_result"
    }
   ],
   "source": [
    "vectors=embeddings.embed_query(\"How are you?\")\n",
    "len(vectors)"
   ]
  },
  {
   "cell_type": "code",
   "execution_count": 10,
   "metadata": {},
   "outputs": [],
   "source": [
    "from pinecone import Pinecone\n",
    "api_key = os.getenv(\"PINECONE_API_KEY\")\n",
    "if not api_key:\n",
    "    raise ValueError(\"PINECONE_API_KEY not found in .env file\")\n",
    "\n",
    "pc = Pinecone(api_key=api_key)\n",
    "index_name = \"ragapp\"\n",
    "index = pc.Index(index_name)"
   ]
  },
  {
   "cell_type": "code",
   "execution_count": 11,
   "metadata": {},
   "outputs": [],
   "source": [
    "# Embed chunked documents\n",
    "texts = [doc.page_content for doc in chunked_docs]\n",
    "vectors = embeddings.embed_documents(texts)"
   ]
  },
  {
   "cell_type": "code",
   "execution_count": 12,
   "metadata": {},
   "outputs": [
    {
     "data": {
      "text/plain": [
       "{'upserted_count': 118}"
      ]
     },
     "execution_count": 12,
     "metadata": {},
     "output_type": "execute_result"
    }
   ],
   "source": [
    "# Prepare data for upsert\n",
    "data = [\n",
    "    (\n",
    "        str(i),                    # Unique ID for each vector\n",
    "        vectors[i],                # Embedding vector\n",
    "        {\"text\": texts[i], **chunked_docs[i].metadata}  # Metadata (text and original metadata)\n",
    "    )\n",
    "    for i in range(len(vectors))\n",
    "]\n",
    "\n",
    "# Upsert to Pinecone\n",
    "index.upsert(vectors=data)"
   ]
  },
  {
   "cell_type": "code",
   "execution_count": 13,
   "metadata": {},
   "outputs": [
    {
     "name": "stdout",
     "output_type": "stream",
     "text": [
      "Index stats: {'dimension': 384,\n",
      " 'index_fullness': 0.0,\n",
      " 'metric': 'cosine',\n",
      " 'namespaces': {'': {'vector_count': 118}},\n",
      " 'total_vector_count': 118,\n",
      " 'vector_type': 'dense'}\n"
     ]
    }
   ],
   "source": [
    "# Verify upsert\n",
    "stats = index.describe_index_stats()\n",
    "print(f\"Index stats: {stats}\")"
   ]
  },
  {
   "cell_type": "code",
   "execution_count": 15,
   "metadata": {},
   "outputs": [
    {
     "name": "stdout",
     "output_type": "stream",
     "text": [
      "{'matches': [{'id': '12',\n",
      "              'metadata': {'creationdate': '2025-06-19T13:48:20+00:00',\n",
      "                           'creator': 'LaTeX with hyperref',\n",
      "                           'page': 2.0,\n",
      "                           'page_label': '3',\n",
      "                           'producer': 'xdvipdfmx (20220710)',\n",
      "                           'source': 'documents\\\\ai_vs_human.pdf',\n",
      "                           'text': 'imal errors. Humans, however, rely on '\n",
      "                                   'slower neural processing but excel in\\n'\n",
      "                                   'contextual analysis, often making '\n",
      "                                   'intuitive decisions where data is '\n",
      "                                   'incomplete.\\n'\n",
      "                                   '2.2 Memory and Recall\\n'\n",
      "                                   'AI has virtually unlimited storage '\n",
      "                                   'capacity, retaining data with perfect '\n",
      "                                   'fidelity.\\n'\n",
      "                                   'In contrast, human memory is fallible, '\n",
      "                                   'subject to forgetting and distortion, but\\n'\n",
      "                                   'it is highly associative, allowing for '\n",
      "                                   'creative connections. For instance, a '\n",
      "                                   'human',\n",
      "                           'total_pages': 20.0},\n",
      "              'score': 0.545329094,\n",
      "              'values': []},\n",
      "             {'id': '13',\n",
      "              'metadata': {'creationdate': '2025-06-19T13:48:20+00:00',\n",
      "                           'creator': 'LaTeX with hyperref',\n",
      "                           'page': 2.0,\n",
      "                           'page_label': '3',\n",
      "                           'producer': 'xdvipdfmx (20220710)',\n",
      "                           'source': 'documents\\\\ai_vs_human.pdf',\n",
      "                           'text': 'might recall a childhood memory triggered '\n",
      "                                   'by a scent, a feat AI cannot replicate\\n'\n",
      "                                   'organically.\\n'\n",
      "                                   '3',\n",
      "                           'total_pages': 20.0},\n",
      "              'score': 0.485282958,\n",
      "              'values': []}],\n",
      " 'namespace': '',\n",
      " 'usage': {'read_units': 6}}\n"
     ]
    }
   ],
   "source": [
    "def pinecone_similarity_search(query, k=2):\n",
    "    query_embedding = embeddings.embed_query(query)\n",
    "    response = index.query(\n",
    "        vector=query_embedding,\n",
    "        top_k=k,\n",
    "        include_metadata=True\n",
    "    )\n",
    "    return response\n",
    "test = pinecone_similarity_search(\"Memory and Recall\")\n",
    "print(test)"
   ]
  },
  {
   "cell_type": "code",
   "execution_count": 16,
   "metadata": {},
   "outputs": [],
   "source": [
    "from langchain.chains.question_answering import load_qa_chain"
   ]
  },
  {
   "cell_type": "code",
   "execution_count": 17,
   "metadata": {},
   "outputs": [
    {
     "name": "stderr",
     "output_type": "stream",
     "text": [
      "C:\\Users\\Rafin\\AppData\\Local\\Temp\\ipykernel_12472\\1542718995.py:7: LangChainDeprecationWarning: This class is deprecated. See the following migration guides for replacements based on `chain_type`:\n",
      "stuff: https://python.langchain.com/docs/versions/migrating_chains/stuff_docs_chain\n",
      "map_reduce: https://python.langchain.com/docs/versions/migrating_chains/map_reduce_chain\n",
      "refine: https://python.langchain.com/docs/versions/migrating_chains/refine_chain\n",
      "map_rerank: https://python.langchain.com/docs/versions/migrating_chains/map_rerank_docs_chain\n",
      "\n",
      "See also guides on retrieval and question-answering here: https://python.langchain.com/docs/how_to/#qa-with-rag\n",
      "  chain=load_qa_chain(llm,chain_type=\"stuff\")\n"
     ]
    }
   ],
   "source": [
    "api_key_groq = os.getenv(\"GROQ_API_KEY\")\n",
    "llm = ChatGroq(\n",
    "    api_key=api_key_groq, \n",
    "    model=\"allam-2-7b\",\n",
    "    temperature=0.7\n",
    ")\n",
    "chain=load_qa_chain(llm,chain_type=\"stuff\")"
   ]
  },
  {
   "cell_type": "code",
   "execution_count": 18,
   "metadata": {},
   "outputs": [],
   "source": [
    "# Initialize Pinecone vector store for langchain\n",
    "from langchain_pinecone import PineconeVectorStore\n",
    "api_key = os.getenv(\"PINECONE_API_KEY\")\n",
    "vectorstore = PineconeVectorStore(index_name=index_name, embedding=embeddings, pinecone_api_key=api_key)"
   ]
  },
  {
   "cell_type": "markdown",
   "metadata": {},
   "source": [
    "# experiment start here"
   ]
  },
  {
   "cell_type": "code",
   "execution_count": 19,
   "metadata": {},
   "outputs": [],
   "source": [
    "from langchain.memory import ConversationBufferMemory\n",
    "from langchain.chains import ConversationalRetrievalChain\n",
    "from supabase import create_client, Client\n",
    "import uuid"
   ]
  },
  {
   "cell_type": "code",
   "execution_count": 20,
   "metadata": {},
   "outputs": [
    {
     "name": "stderr",
     "output_type": "stream",
     "text": [
      "C:\\Users\\Rafin\\AppData\\Local\\Temp\\ipykernel_12472\\3973472797.py:2: LangChainDeprecationWarning: Please see the migration guide at: https://python.langchain.com/docs/versions/migrating_memory/\n",
      "  memory = ConversationBufferMemory(memory_key=\"chat_history\", return_messages=True)\n"
     ]
    }
   ],
   "source": [
    "# Initialize conversation memory\n",
    "memory = ConversationBufferMemory(memory_key=\"chat_history\", return_messages=True)"
   ]
  },
  {
   "cell_type": "code",
   "execution_count": 21,
   "metadata": {},
   "outputs": [],
   "source": [
    "# Set up ConversationalRetrievalChain\n",
    "qa_chain = ConversationalRetrievalChain.from_llm(\n",
    "    llm=llm,\n",
    "    retriever=vectorstore.as_retriever(search_kwargs={\"k\": 2}),\n",
    "    memory=memory,\n",
    "    chain_type=\"stuff\"\n",
    ")\n"
   ]
  },
  {
   "cell_type": "code",
   "execution_count": null,
   "metadata": {},
   "outputs": [],
   "source": [
    "# Initialize Supabase client\n",
    "from dotenv import load_dotenv\n",
    "load_dotenv()\n",
    "import os\n",
    "url = os.getenv(\"SUPABASE_URL\")\n",
    "key = os.getenv(\"ANON_PUBLIC_KEY\")\n",
    "supabase: Client = create_client(url, key)"
   ]
  },
  {
   "cell_type": "code",
   "execution_count": 49,
   "metadata": {},
   "outputs": [],
   "source": [
    "# Function to store chat in Supabase\n",
    "def store_chat_in_supabase(user_id: str, query: str, answer: str, session_id: str = None):\n",
    "    try:\n",
    "        data = {\n",
    "            \"user_id\": user_id,\n",
    "            \"query\": query,\n",
    "            \"answer\": answer,\n",
    "            \"session_id\": session_id or str(uuid.uuid4())\n",
    "        }\n",
    "        response = supabase.table(\"chat_history\").insert(data).execute()\n",
    "        return response.data\n",
    "    except Exception as e:\n",
    "        raise RuntimeError(f\"Failed to store chat in Supabase: {str(e)}\")"
   ]
  },
  {
   "cell_type": "code",
   "execution_count": 50,
   "metadata": {},
   "outputs": [],
   "source": [
    "# Function to retrieve chat history from Supabase\n",
    "def get_chat_history(user_id: str, session_id: str = None):\n",
    "    try:\n",
    "        query = supabase.table(\"chat_history\").select(\"*\").eq(\"user_id\", user_id)\n",
    "        if session_id:\n",
    "            query = query.eq(\"session_id\", session_id)\n",
    "        response = query.order(\"timestamp\", desc=True).execute()\n",
    "        return response.data\n",
    "    except Exception as e:\n",
    "        raise RuntimeError(f\"Failed to retrieve chat history: {str(e)}\")"
   ]
  },
  {
   "cell_type": "code",
   "execution_count": 51,
   "metadata": {},
   "outputs": [],
   "source": [
    "# Function to load Supabase chat history into memory\n",
    "def load_supabase_history_to_memory(user_id: str, session_id: str = None):\n",
    "    history = get_chat_history(user_id, session_id)\n",
    "    memory.clear()  # Clear existing memory to avoid duplication\n",
    "    for entry in history:\n",
    "        memory.chat_memory.add_user_message(entry[\"query\"])\n",
    "        memory.chat_memory.add_ai_message(entry[\"answer\"])\n"
   ]
  },
  {
   "cell_type": "code",
   "execution_count": 52,
   "metadata": {},
   "outputs": [],
   "source": [
    "# Function to retrieve answers with history from Supabase\n",
    "def retrieve_answers_with_history(query, user_id=\"default_user\", session_id=None):\n",
    "    if not query or not isinstance(query, str):\n",
    "        raise ValueError(\"Query must be a non-empty string\")\n",
    "    try:\n",
    "        # Load chat history from Supabase into memory\n",
    "        load_supabase_history_to_memory(user_id, session_id)\n",
    "        \n",
    "        # Process the query with the RAG chain\n",
    "        response = qa_chain({\"question\": query})\n",
    "        answer = response[\"answer\"]\n",
    "        \n",
    "        # Store the new query and answer in Supabase\n",
    "        store_chat_in_supabase(user_id, query, answer, session_id)\n",
    "        \n",
    "        # Retrieve updated chat history from Supabase\n",
    "        chat_history = get_chat_history(user_id, session_id)\n",
    "        return answer, chat_history\n",
    "    except Exception as e:\n",
    "        raise RuntimeError(f\"Failed to retrieve answer: {str(e)}\")"
   ]
  },
  {
   "cell_type": "code",
   "execution_count": 54,
   "metadata": {},
   "outputs": [
    {
     "name": "stdout",
     "output_type": "stream",
     "text": [
      "Answer: The main topics discussed in the provided documents are:\n",
      "\n",
      "1. AI in Journalism (document 8.2)\n",
      "2. Autonomous Surgery (document 8.3)\n",
      "3. Challenges in Integration (document 9)\n",
      "4. Technical Limitations (document 9, section 9.1)\n",
      "5. Cultural Resistance (document 9, section 9.2) \n",
      "Chat History from Supabase: [{'id': '3ccb2579-0773-4bf7-98f0-e2108752078b', 'user_id': 'user_123', 'query': 'What is the main topic of the documents?', 'answer': 'The main topics discussed in the provided documents are:\\n\\n1. AI in Journalism (document 8.2)\\n2. Autonomous Surgery (document 8.3)\\n3. Challenges in Integration (document 9)\\n4. Technical Limitations (document 9, section 9.1)\\n5. Cultural Resistance (document 9, section 9.2) ', 'timestamp': '2025-06-20T10:28:48.312052+00:00', 'session_id': 'session_001'}, {'id': 'd3962f43-4958-4719-aae3-0845ded7b7c4', 'user_id': 'user_123', 'query': 'what is my last query?', 'answer': 'The topic of the document 8.2 is AI in Journalism. ', 'timestamp': '2025-06-20T10:11:07.086978+00:00', 'session_id': 'session_001'}, {'id': 'fbf4c041-2184-4881-aedb-cd7e5c9c0a2d', 'user_id': 'user_123', 'query': 'what is my last query?', 'answer': 'Thank you for providing the information about the main topics discussed in the documents. I will keep these in mind and be ready to assist if you have any specific questions on these subjects. ', 'timestamp': '2025-06-20T10:08:51.293378+00:00', 'session_id': 'session_001'}, {'id': '5c5e0db5-1b8f-420d-b7b6-e4fe4c0dc1ba', 'user_id': 'user_123', 'query': 'Can you tell me more about AI in journalism?', 'answer': 'Based on the provided conversation, the main topics discussed are:\\n\\n1. AI in Journalism (document 8.2)\\n2. Autonomous Surgery (document 8.3)\\n3. Challenges in Integration (document 9) with subtopics of Technical Limitations and Cultural Resistance\\n\\nThese topics were mentioned throughout the conversation, discussing various applications of AI and the challenges associated with integrating AI into different fields. ', 'timestamp': '2025-06-20T10:07:08.765111+00:00', 'session_id': 'session_001'}, {'id': '4aa26221-6203-4231-bdc5-afd965626f91', 'user_id': 'user_123', 'query': 'What is the main topic of the documents?', 'answer': 'Based on the provided context, the primary topics covered in these documents seem to be:\\n\\n1. AI in Journalism (8.2)\\n2. Autonomous Surgery (8.3)\\n3. Challenges in Integration (9)\\n   a. Technical Limitations (9.1)\\n   b. Cultural Resistance (9.2)\\n\\nThese topics are mentioned in the chapters or sections with the corresponding chapter number and heading. ', 'timestamp': '2025-06-20T10:07:07.640143+00:00', 'session_id': 'session_001'}, {'id': 'aa4c8e01-b634-47da-b87b-3995b041a469', 'user_id': 'user_123', 'query': 'Can you tell me more about AI in journalism?', 'answer': 'The main topics discussed in the provided documents are:\\n\\n1. AI in Journalism: This topic focuses on how AI tools, such as Heliograf, are being used to generate sports reports and how human journalists contribute investigative depth.\\n2. Autonomous Surgery: This topic covers the development of autonomous surgery systems and the challenges they face in integrating with the medical field.\\n3. Challenges in Integration: This topic discusses the challenges associated with integrating AI into different fields, including technical limitations and cultural resistance.\\n\\nThese main topics represent the content of the documents, without considering the specific context of the AI chat. ', 'timestamp': '2025-06-20T10:06:38.247215+00:00', 'session_id': 'session_001'}, {'id': '64674db3-38d6-4c4b-b363-3ae43880618f', 'user_id': 'user_123', 'query': 'What is the main topic of the documents?', 'answer': 'Based on the provided context, the main topics discussed in the documents seem to be:\\n\\n1. AI in Journalism (Case Study: AI in Journalism)\\n2. Autonomous Surgery (Case Study: Autonomous Surgery)\\n3. Challenges in Integration\\n4. Technical Limitations (Challenges in Integration, Section 9.1)\\n5. Cultural Resistance (Challenges in Integration, Section 9.2)\\n\\nThese topics are implied from the given information, as the document structure suggests a progression of subjects. Please note that without the actual content of the documents, these topics are based on the provided titles and sections. ', 'timestamp': '2025-06-20T10:06:36.903685+00:00', 'session_id': 'session_001'}, {'id': '1182ee85-1dbb-4f40-a79d-b0c74c938a81', 'user_id': 'user_123', 'query': 'what is my last question?', 'answer': 'Certainly, the main topics covered in the documents include:\\n\\n1. Learning and Adaptation: This topic discusses the process of AI improving and evolving over time based on experience and feedback.\\n2. Problem-Solving: Focuses on how AI can be used to solve problems and make decisions.\\n3. Collaboration Between AI and Humans: Explores the relationship and interactions between AI systems and humans.\\n4. Case Studies: Presents two examples of AI applications in journalism and autonomous surgery.\\n5. Challenges in Integration: Discusses potential obstacles in integrating AI systems into human societies and systems.\\n\\nThese topics cover various aspects of artificial intelligence, its capabilities, and the challenges surrounding its integration with human workforces and industries. ', 'timestamp': '2025-06-20T09:51:22.25429+00:00', 'session_id': 'session_001'}, {'id': '5571cd9d-7cf2-4fe8-afcf-fbd7f4409a04', 'user_id': 'user_123', 'query': 'What is the main topic of the documents?', 'answer': 'What are the main topics discussed in the provided documents? ', 'timestamp': '2025-06-20T09:51:21.25316+00:00', 'session_id': 'session_001'}, {'id': '344cd7bb-f2f7-41fc-a870-e02881c0ab50', 'user_id': 'user_123', 'query': 'Can you tell me more about AI in journalism?', 'answer': \"Yes, I can provide information on the topic 'AI in Journalism' mentioned in document 8.2. According to the information available, AI in journalism involves the use of artificial intelligence to assist and enhance journalists' work. One example given is the use of AI tools like Heliograf, which can automatically generate sports reports. This allows journalists to focus on more in-depth stories, improving productivity. However, it is essential to note that AI in journalism also faces challenges, such as technical limitations and cultural resistance, which are further discussed in the document. \", 'timestamp': '2025-06-20T09:47:40.207141+00:00', 'session_id': 'session_001'}, {'id': 'ce5d759d-f529-420e-95ea-27faab789d1f', 'user_id': 'user_123', 'query': 'What is the main topic of the documents?', 'answer': 'Based on the provided information, the main topics of the documents seem to be:\\n\\n1. The main topic of document 8.2 is \"AI in Journalism.\"\\n2. Document 8.3 focuses on \"Autonomous Surgery.\"\\n3. Document 9 discusses challenges in integrating AI with their subtopics being \"Technical Limitations\" and \"Cultural Resistance.\" ', 'timestamp': '2025-06-20T09:47:39.245438+00:00', 'session_id': 'session_001'}]\n",
      "Follow-up Answer: Based on the provided context, the main topics covered in the documents are:\n",
      "\n",
      "1. Document 8.2 discusses \"AI in Journalism,\" specifically the use of AI tools like Heliograf for generating sports reports and the resulting enhancements in productivity. Additionally, it touches upon the challenges faced, including technical limitations and cultural resistance to AI in journalism.\n",
      "\n",
      "2. Document 8.3 covers \"Autonomous Surgery,\" exploring the potential of using AI in the field and the implications involved.\n",
      "\n",
      "3. Document 9 focuses on the challenges associated with integrating AI. Within this document, subtopics include \"Technical Limitations\" and \"Cultural Resistance.\" \n",
      "\n",
      "If you have any additional questions about these topics, feel free to ask! \n",
      "Chat History from Supabase: [{'id': 'a2642332-65ab-4cf5-989d-b103e0fa3196', 'user_id': 'user_123', 'query': 'Can you tell me more about AI in journalism?', 'answer': 'Based on the provided context, the main topics covered in the documents are:\\n\\n1. Document 8.2 discusses \"AI in Journalism,\" specifically the use of AI tools like Heliograf for generating sports reports and the resulting enhancements in productivity. Additionally, it touches upon the challenges faced, including technical limitations and cultural resistance to AI in journalism.\\n\\n2. Document 8.3 covers \"Autonomous Surgery,\" exploring the potential of using AI in the field and the implications involved.\\n\\n3. Document 9 focuses on the challenges associated with integrating AI. Within this document, subtopics include \"Technical Limitations\" and \"Cultural Resistance.\" \\n\\nIf you have any additional questions about these topics, feel free to ask! ', 'timestamp': '2025-06-20T10:28:50.226955+00:00', 'session_id': 'session_001'}, {'id': '3ccb2579-0773-4bf7-98f0-e2108752078b', 'user_id': 'user_123', 'query': 'What is the main topic of the documents?', 'answer': 'The main topics discussed in the provided documents are:\\n\\n1. AI in Journalism (document 8.2)\\n2. Autonomous Surgery (document 8.3)\\n3. Challenges in Integration (document 9)\\n4. Technical Limitations (document 9, section 9.1)\\n5. Cultural Resistance (document 9, section 9.2) ', 'timestamp': '2025-06-20T10:28:48.312052+00:00', 'session_id': 'session_001'}, {'id': 'd3962f43-4958-4719-aae3-0845ded7b7c4', 'user_id': 'user_123', 'query': 'what is my last query?', 'answer': 'The topic of the document 8.2 is AI in Journalism. ', 'timestamp': '2025-06-20T10:11:07.086978+00:00', 'session_id': 'session_001'}, {'id': 'fbf4c041-2184-4881-aedb-cd7e5c9c0a2d', 'user_id': 'user_123', 'query': 'what is my last query?', 'answer': 'Thank you for providing the information about the main topics discussed in the documents. I will keep these in mind and be ready to assist if you have any specific questions on these subjects. ', 'timestamp': '2025-06-20T10:08:51.293378+00:00', 'session_id': 'session_001'}, {'id': '5c5e0db5-1b8f-420d-b7b6-e4fe4c0dc1ba', 'user_id': 'user_123', 'query': 'Can you tell me more about AI in journalism?', 'answer': 'Based on the provided conversation, the main topics discussed are:\\n\\n1. AI in Journalism (document 8.2)\\n2. Autonomous Surgery (document 8.3)\\n3. Challenges in Integration (document 9) with subtopics of Technical Limitations and Cultural Resistance\\n\\nThese topics were mentioned throughout the conversation, discussing various applications of AI and the challenges associated with integrating AI into different fields. ', 'timestamp': '2025-06-20T10:07:08.765111+00:00', 'session_id': 'session_001'}, {'id': '4aa26221-6203-4231-bdc5-afd965626f91', 'user_id': 'user_123', 'query': 'What is the main topic of the documents?', 'answer': 'Based on the provided context, the primary topics covered in these documents seem to be:\\n\\n1. AI in Journalism (8.2)\\n2. Autonomous Surgery (8.3)\\n3. Challenges in Integration (9)\\n   a. Technical Limitations (9.1)\\n   b. Cultural Resistance (9.2)\\n\\nThese topics are mentioned in the chapters or sections with the corresponding chapter number and heading. ', 'timestamp': '2025-06-20T10:07:07.640143+00:00', 'session_id': 'session_001'}, {'id': 'aa4c8e01-b634-47da-b87b-3995b041a469', 'user_id': 'user_123', 'query': 'Can you tell me more about AI in journalism?', 'answer': 'The main topics discussed in the provided documents are:\\n\\n1. AI in Journalism: This topic focuses on how AI tools, such as Heliograf, are being used to generate sports reports and how human journalists contribute investigative depth.\\n2. Autonomous Surgery: This topic covers the development of autonomous surgery systems and the challenges they face in integrating with the medical field.\\n3. Challenges in Integration: This topic discusses the challenges associated with integrating AI into different fields, including technical limitations and cultural resistance.\\n\\nThese main topics represent the content of the documents, without considering the specific context of the AI chat. ', 'timestamp': '2025-06-20T10:06:38.247215+00:00', 'session_id': 'session_001'}, {'id': '64674db3-38d6-4c4b-b363-3ae43880618f', 'user_id': 'user_123', 'query': 'What is the main topic of the documents?', 'answer': 'Based on the provided context, the main topics discussed in the documents seem to be:\\n\\n1. AI in Journalism (Case Study: AI in Journalism)\\n2. Autonomous Surgery (Case Study: Autonomous Surgery)\\n3. Challenges in Integration\\n4. Technical Limitations (Challenges in Integration, Section 9.1)\\n5. Cultural Resistance (Challenges in Integration, Section 9.2)\\n\\nThese topics are implied from the given information, as the document structure suggests a progression of subjects. Please note that without the actual content of the documents, these topics are based on the provided titles and sections. ', 'timestamp': '2025-06-20T10:06:36.903685+00:00', 'session_id': 'session_001'}, {'id': '1182ee85-1dbb-4f40-a79d-b0c74c938a81', 'user_id': 'user_123', 'query': 'what is my last question?', 'answer': 'Certainly, the main topics covered in the documents include:\\n\\n1. Learning and Adaptation: This topic discusses the process of AI improving and evolving over time based on experience and feedback.\\n2. Problem-Solving: Focuses on how AI can be used to solve problems and make decisions.\\n3. Collaboration Between AI and Humans: Explores the relationship and interactions between AI systems and humans.\\n4. Case Studies: Presents two examples of AI applications in journalism and autonomous surgery.\\n5. Challenges in Integration: Discusses potential obstacles in integrating AI systems into human societies and systems.\\n\\nThese topics cover various aspects of artificial intelligence, its capabilities, and the challenges surrounding its integration with human workforces and industries. ', 'timestamp': '2025-06-20T09:51:22.25429+00:00', 'session_id': 'session_001'}, {'id': '5571cd9d-7cf2-4fe8-afcf-fbd7f4409a04', 'user_id': 'user_123', 'query': 'What is the main topic of the documents?', 'answer': 'What are the main topics discussed in the provided documents? ', 'timestamp': '2025-06-20T09:51:21.25316+00:00', 'session_id': 'session_001'}, {'id': '344cd7bb-f2f7-41fc-a870-e02881c0ab50', 'user_id': 'user_123', 'query': 'Can you tell me more about AI in journalism?', 'answer': \"Yes, I can provide information on the topic 'AI in Journalism' mentioned in document 8.2. According to the information available, AI in journalism involves the use of artificial intelligence to assist and enhance journalists' work. One example given is the use of AI tools like Heliograf, which can automatically generate sports reports. This allows journalists to focus on more in-depth stories, improving productivity. However, it is essential to note that AI in journalism also faces challenges, such as technical limitations and cultural resistance, which are further discussed in the document. \", 'timestamp': '2025-06-20T09:47:40.207141+00:00', 'session_id': 'session_001'}, {'id': 'ce5d759d-f529-420e-95ea-27faab789d1f', 'user_id': 'user_123', 'query': 'What is the main topic of the documents?', 'answer': 'Based on the provided information, the main topics of the documents seem to be:\\n\\n1. The main topic of document 8.2 is \"AI in Journalism.\"\\n2. Document 8.3 focuses on \"Autonomous Surgery.\"\\n3. Document 9 discusses challenges in integrating AI with their subtopics being \"Technical Limitations\" and \"Cultural Resistance.\" ', 'timestamp': '2025-06-20T09:47:39.245438+00:00', 'session_id': 'session_001'}]\n"
     ]
    }
   ],
   "source": [
    "# Test the chain and Supabase integration\n",
    "if __name__ == \"__main__\":\n",
    "    user_id = \"user_123\"\n",
    "    session_id = \"session_001\"\n",
    "    \n",
    "    # Test initial query\n",
    "    query = \"What is the main topic of the documents?\"\n",
    "    answer, chat_history = retrieve_answers_with_history(query, user_id, session_id)\n",
    "    print(f\"Answer: {answer}\")\n",
    "    print(f\"Chat History from Supabase: {chat_history}\")\n",
    "    \n",
    "    # Test follow-up question\n",
    "    follow_up_query = \"Can you tell me more about AI in journalism?\"\n",
    "    answer, chat_history = retrieve_answers_with_history(follow_up_query, user_id, session_id)\n",
    "    print(f\"Follow-up Answer: {answer}\")\n",
    "    print(f\"Chat History from Supabase: {chat_history}\")"
   ]
  },
  {
   "cell_type": "markdown",
   "metadata": {},
   "source": [
    "# end here"
   ]
  }
 ],
 "metadata": {
  "kernelspec": {
   "display_name": "Python 3",
   "language": "python",
   "name": "python3"
  },
  "language_info": {
   "codemirror_mode": {
    "name": "ipython",
    "version": 3
   },
   "file_extension": ".py",
   "mimetype": "text/x-python",
   "name": "python",
   "nbconvert_exporter": "python",
   "pygments_lexer": "ipython3",
   "version": "3.13.3"
  }
 },
 "nbformat": 4,
 "nbformat_minor": 2
}
